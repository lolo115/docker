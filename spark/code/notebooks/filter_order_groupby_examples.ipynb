{
  "nbformat": 4,
  "nbformat_minor": 0,
  "metadata": {
    "colab": {
      "name": "pyspark_DF.ipynb",
      "provenance": [],
      "authorship_tag": "ABX9TyN5ZHxrwcHR8L+AVGOhVjGQ"
    },
    "kernelspec": {
      "name": "python3",
      "display_name": "Python 3"
    }
  },
  "cells": [
    {
      "cell_type": "code",
      "metadata": {
        "id": "QRUQtS-A1BKq",
        "colab_type": "code",
        "colab": {
          "base_uri": "https://localhost:8080/",
          "height": 54
        },
        "outputId": "e9162d57-f193-4a2e-b96a-7aba5ce522fe"
      },
      "source": [
        "!pip install pyspark"
      ],
      "execution_count": 1,
      "outputs": [
        {
          "output_type": "stream",
          "text": [
            "Requirement already satisfied: pyspark in /usr/local/lib/python3.6/dist-packages (2.4.4)\n",
            "Requirement already satisfied: py4j==0.10.7 in /usr/local/lib/python3.6/dist-packages (from pyspark) (0.10.7)\n"
          ],
          "name": "stdout"
        }
      ]
    },
    {
      "cell_type": "code",
      "metadata": {
        "id": "beNjXAIE2Rg3",
        "colab_type": "code",
        "colab": {
          "base_uri": "https://localhost:8080/",
          "height": 35
        },
        "outputId": "35653aed-9833-40c8-b9a8-d64e799d116d"
      },
      "source": [
        "from pyspark.sql import SparkSession\n",
        "from pyspark.sql.types import *\n",
        "\n",
        "#pyspark.sql.SparkSession builder from Session\n",
        "spark=SparkSession.builder\\\n",
        ".master(\"local\")\\\n",
        ".appName(\"DFLolo\")\\\n",
        ".getOrCreate()\n",
        "print(type(spark))\n"
      ],
      "execution_count": 2,
      "outputs": [
        {
          "output_type": "stream",
          "text": [
            "<class 'pyspark.sql.session.SparkSession'>\n"
          ],
          "name": "stdout"
        }
      ]
    },
    {
      "cell_type": "code",
      "metadata": {
        "id": "t4Yrc02Q3PyC",
        "colab_type": "code",
        "colab": {
          "base_uri": "https://localhost:8080/",
          "height": 606
        },
        "outputId": "465ea644-9698-4e98-bed3-9fe61063647a"
      },
      "source": [
        "# Schema definition (not mandatory)\n",
        "df_schema=None;\n",
        "df_schema = [StructField('id', IntegerType(), True), \n",
        "             StructField('fname', StringType(), True), \n",
        "             StructField('lname', StringType(), True),\n",
        "             StructField('age', IntegerType(), True)]\n",
        "df_struct = StructType(fields=df_schema)\n",
        "\n",
        "# DataFrame creation from CSV\n",
        "df1=spark.read.schema(df_struct).csv(path='sample_data/cust1.csv', sep=',',header=True,inferSchema=False)\n",
        "print(\"DF1\")\n",
        "df1.show()\n",
        "df1.printSchema()\n",
        "\n",
        "# DataFrame #2 creation from CSV\n",
        "df2=spark.read.csv(path='sample_data/cust1.csv', sep=',',header=True,inferSchema=True)\n",
        "print(\"DF2\")\n",
        "df2.show()\n",
        "df2.printSchema()\n",
        "\n"
      ],
      "execution_count": 45,
      "outputs": [
        {
          "output_type": "stream",
          "text": [
            "DF1\n",
            "+---+-------+--------+---+\n",
            "| id|  fname|   lname|age|\n",
            "+---+-------+--------+---+\n",
            "|  1|      L|Leturgez| 42|\n",
            "|  2|      V|Leturgez| 42|\n",
            "|  3|      L|Leturgez|  8|\n",
            "|  4|      O|Leturgez|  6|\n",
            "+---+-------+--------+---+\n",
            "\n",
            "root\n",
            " |-- id: integer (nullable = true)\n",
            " |-- fname: string (nullable = true)\n",
            " |-- lname: string (nullable = true)\n",
            " |-- age: integer (nullable = true)\n",
            "\n",
            "DF2\n",
            "+---+-------+--------+---+\n",
            "| Id|  fname|   lname|age|\n",
            "+---+-------+--------+---+\n",
            "|  1|      L|Leturgez| 42|\n",
            "|  2|      V|Leturgez| 42|\n",
            "|  3|      L|Leturgez|  8|\n",
            "|  4|      O|Leturgez|  6|\n",
            "+---+-------+--------+---+\n",
            "\n",
            "root\n",
            " |-- Id: integer (nullable = true)\n",
            " |-- fname: string (nullable = true)\n",
            " |-- lname: string (nullable = true)\n",
            " |-- age: integer (nullable = true)\n",
            "\n"
          ],
          "name": "stdout"
        }
      ]
    },
    {
      "cell_type": "code",
      "metadata": {
        "id": "MYVxr2Vu8yYI",
        "colab_type": "code",
        "colab": {
          "base_uri": "https://localhost:8080/",
          "height": 753
        },
        "outputId": "1f80420f-431b-4e03-b731-dc4e46529af4"
      },
      "source": [
        "df1.createOrReplaceTempView(\"tt\")\n",
        "\n",
        "# Filter\n",
        "df2.where(df2['fname']=='      L').show()\n",
        "spark.sql(\"SELECT id,lname,fname,age FROM tt WHERE fname='      L'\").show()\n",
        "\n",
        "df2.where(\\\n",
        "    (df2['fname']=='      L') |\\\n",
        "    (df2['fname']=='      V')\\\n",
        ").show()\n",
        "spark.sql(\"SELECT id,lname,fname,age FROM tt WHERE fname='      L' OR fname='      V'\").show()\n",
        "\n",
        "df2.where(\\\n",
        "    (df2['age']>3) &\\\n",
        "    (df2['age']<=8)\\\n",
        ").show()\n",
        "spark.sql(\"SELECT * FROM tt WHERE age>3 AND age<=8\").show()\n"
      ],
      "execution_count": 57,
      "outputs": [
        {
          "output_type": "stream",
          "text": [
            "+---+-------+--------+---+\n",
            "| Id|  fname|   lname|age|\n",
            "+---+-------+--------+---+\n",
            "|  1|      L|Leturgez| 42|\n",
            "+---+-------+--------+---+\n",
            "\n",
            "+---+--------+-------+---+\n",
            "| id|   lname|  fname|age|\n",
            "+---+--------+-------+---+\n",
            "|  1|Leturgez|      L| 42|\n",
            "+---+--------+-------+---+\n",
            "\n",
            "+---+-------+--------+---+\n",
            "| Id|  fname|   lname|age|\n",
            "+---+-------+--------+---+\n",
            "|  1|      L|Leturgez| 42|\n",
            "|  2|      V|Leturgez| 42|\n",
            "+---+-------+--------+---+\n",
            "\n",
            "+---+--------+-------+---+\n",
            "| id|   lname|  fname|age|\n",
            "+---+--------+-------+---+\n",
            "|  1|Leturgez|      L| 42|\n",
            "|  2|Leturgez|      V| 42|\n",
            "+---+--------+-------+---+\n",
            "\n",
            "+---+-----+--------+---+\n",
            "| Id|fname|   lname|age|\n",
            "+---+-----+--------+---+\n",
            "|  3|    L|Leturgez|  8|\n",
            "|  4|    O|Leturgez|  6|\n",
            "+---+-----+--------+---+\n",
            "\n",
            "+---+-----+--------+---+\n",
            "| id|fname|   lname|age|\n",
            "+---+-----+--------+---+\n",
            "|  3|    L|Leturgez|  8|\n",
            "|  4|    O|Leturgez|  6|\n",
            "+---+-----+--------+---+\n",
            "\n"
          ],
          "name": "stdout"
        }
      ]
    },
    {
      "cell_type": "code",
      "metadata": {
        "id": "2j9ujrCmEEPI",
        "colab_type": "code",
        "colab": {
          "base_uri": "https://localhost:8080/",
          "height": 348
        },
        "outputId": "cf641d9d-d7f6-4c41-9eff-646f8852cca8"
      },
      "source": [
        "df1.createOrReplaceTempView(\"tt\")\n",
        "\n",
        "df2.groupBy(df2['lname']).avg().show()\n",
        "\n",
        "df2.groupBy(df2['lname']).agg({'age':'avg'}).show()\n",
        "spark.sql(\"select lname,avg(age) from tt group by lname\").show()\n",
        "\n",
        "\n"
      ],
      "execution_count": 58,
      "outputs": [
        {
          "output_type": "stream",
          "text": [
            "+--------+-------+--------+\n",
            "|   lname|avg(Id)|avg(age)|\n",
            "+--------+-------+--------+\n",
            "|Leturgez|    2.5|    24.5|\n",
            "+--------+-------+--------+\n",
            "\n",
            "+--------+--------+\n",
            "|   lname|avg(age)|\n",
            "+--------+--------+\n",
            "|Leturgez|    24.5|\n",
            "+--------+--------+\n",
            "\n",
            "+--------+--------+\n",
            "|   lname|avg(age)|\n",
            "+--------+--------+\n",
            "|Leturgez|    24.5|\n",
            "+--------+--------+\n",
            "\n"
          ],
          "name": "stdout"
        }
      ]
    },
    {
      "cell_type": "code",
      "metadata": {
        "id": "ZT-Kass1EVUk",
        "colab_type": "code",
        "colab": {
          "base_uri": "https://localhost:8080/",
          "height": 679
        },
        "outputId": "d5132f15-e53c-4cce-f9e0-ba526993063a"
      },
      "source": [
        "df1.createOrReplaceTempView(\"tt\")\n",
        "\n",
        "df2.orderBy(df2['age']).show()\n",
        "spark.sql(\"select * from tt order by age\").show()\n",
        "\n",
        "df2.orderBy(df2['age'].desc()).show()\n",
        "spark.sql(\"select * from tt order by age desc\").show()"
      ],
      "execution_count": 59,
      "outputs": [
        {
          "output_type": "stream",
          "text": [
            "+---+-------+--------+---+\n",
            "| Id|  fname|   lname|age|\n",
            "+---+-------+--------+---+\n",
            "|  4|      O|Leturgez|  6|\n",
            "|  3|      L|Leturgez|  8|\n",
            "|  1|      L|Leturgez| 42|\n",
            "|  2|      V|Leturgez| 42|\n",
            "+---+-------+--------+---+\n",
            "\n",
            "+---+-------+--------+---+\n",
            "| id|  fname|   lname|age|\n",
            "+---+-------+--------+---+\n",
            "|  4|      O|Leturgez|  6|\n",
            "|  3|      L|Leturgez|  8|\n",
            "|  1|      L|Leturgez| 42|\n",
            "|  2|      V|Leturgez| 42|\n",
            "+---+-------+--------+---+\n",
            "\n",
            "+---+-------+--------+---+\n",
            "| Id|  fname|   lname|age|\n",
            "+---+-------+--------+---+\n",
            "|  1|      L|Leturgez| 42|\n",
            "|  2|      V|Leturgez| 42|\n",
            "|  3|      L|Leturgez|  8|\n",
            "|  4|      O|Leturgez|  6|\n",
            "+---+-------+--------+---+\n",
            "\n",
            "+---+-------+--------+---+\n",
            "| id|  fname|   lname|age|\n",
            "+---+-------+--------+---+\n",
            "|  1|      L|Leturgez| 42|\n",
            "|  2|      V|Leturgez| 42|\n",
            "|  3|      L|Leturgez|  8|\n",
            "|  4|      O|Leturgez|  6|\n",
            "+---+-------+--------+---+\n",
            "\n"
          ],
          "name": "stdout"
        }
      ]
    }
  ]
}
